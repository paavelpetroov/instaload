{
 "cells": [
  {
   "cell_type": "code",
   "execution_count": 101,
   "metadata": {},
   "outputs": [],
   "source": [
    "import pandas as pd\n",
    "import numpy as np"
   ]
  },
  {
   "cell_type": "code",
   "execution_count": 2,
   "metadata": {},
   "outputs": [],
   "source": [
    "df = pd.read_csv('../satisfiedabc_Posts.csv')"
   ]
  },
  {
   "cell_type": "code",
   "execution_count": 60,
   "metadata": {},
   "outputs": [
    {
     "data": {
      "text/html": [
       "<div>\n",
       "<style scoped>\n",
       "    .dataframe tbody tr th:only-of-type {\n",
       "        vertical-align: middle;\n",
       "    }\n",
       "\n",
       "    .dataframe tbody tr th {\n",
       "        vertical-align: top;\n",
       "    }\n",
       "\n",
       "    .dataframe thead th {\n",
       "        text-align: right;\n",
       "    }\n",
       "</style>\n",
       "<table border=\"1\" class=\"dataframe\">\n",
       "  <thead>\n",
       "    <tr style=\"text-align: right;\">\n",
       "      <th></th>\n",
       "      <th>OriginalUsername</th>\n",
       "      <th>MediaId</th>\n",
       "      <th>CreatedDate</th>\n",
       "      <th>PostUrl</th>\n",
       "      <th>NrLikes</th>\n",
       "      <th>NrComments</th>\n",
       "      <th>ViewCount</th>\n",
       "      <th>IsVideo</th>\n",
       "      <th>TaggedUsers</th>\n",
       "      <th>MentionedUsers</th>\n",
       "      <th>Caption</th>\n",
       "      <th>Location</th>\n",
       "      <th>Credits</th>\n",
       "    </tr>\n",
       "  </thead>\n",
       "  <tbody>\n",
       "    <tr>\n",
       "      <th>0</th>\n",
       "      <td>satisfiedabc</td>\n",
       "      <td>2322894820267000138_16589495810</td>\n",
       "      <td>6/2/2020 11:44:22 PM</td>\n",
       "      <td>https://www.instagram.com/p/CA8lIgknAFK</td>\n",
       "      <td>6819</td>\n",
       "      <td>14</td>\n",
       "      <td>0</td>\n",
       "      <td>No</td>\n",
       "      <td>NaN</td>\n",
       "      <td>@satisfiedabc,@satisfiedacc,@satisfiedabc,@sat...</td>\n",
       "      <td>⬇️Have fun with this game of cat🐱⬇️\\n👉swipe --...</td>\n",
       "      <td>NaN</td>\n",
       "      <td>Credit: @ dm me</td>\n",
       "    </tr>\n",
       "    <tr>\n",
       "      <th>1</th>\n",
       "      <td>satisfiedabc</td>\n",
       "      <td>2322138822547961556_16589495810</td>\n",
       "      <td>6/1/2020 10:42:20 PM</td>\n",
       "      <td>https://www.instagram.com/p/CA55PS1HXbU</td>\n",
       "      <td>29030</td>\n",
       "      <td>175</td>\n",
       "      <td>0</td>\n",
       "      <td>No</td>\n",
       "      <td>NaN</td>\n",
       "      <td>@satisfiedabc,@satisfiedacc,@satisfiedabc,@sat...</td>\n",
       "      <td>⬇️Have fun with this game of cat🐱⬇️\\n👉swipe --...</td>\n",
       "      <td>NaN</td>\n",
       "      <td>Credit: @jasonderulo</td>\n",
       "    </tr>\n",
       "    <tr>\n",
       "      <th>2</th>\n",
       "      <td>satisfiedabc</td>\n",
       "      <td>2321440061022639650_16589495810</td>\n",
       "      <td>5/31/2020 11:34:02 PM</td>\n",
       "      <td>https://www.instagram.com/p/CA3aW-cnZYi</td>\n",
       "      <td>13119</td>\n",
       "      <td>19</td>\n",
       "      <td>0</td>\n",
       "      <td>No</td>\n",
       "      <td>NaN</td>\n",
       "      <td>@satisfiedabc,@satisfiedacc,@satisfiedabc,@sat...</td>\n",
       "      <td>⬇️Have fun with this game of cat🐱⬇️\\n👉swipe --...</td>\n",
       "      <td>NaN</td>\n",
       "      <td>Credit: @ dm me</td>\n",
       "    </tr>\n",
       "    <tr>\n",
       "      <th>3</th>\n",
       "      <td>satisfiedabc</td>\n",
       "      <td>2320727064843354106_16589495810</td>\n",
       "      <td>5/30/2020 11:57:26 PM</td>\n",
       "      <td>https://www.instagram.com/p/CA04PhAn3_6</td>\n",
       "      <td>10617</td>\n",
       "      <td>11</td>\n",
       "      <td>0</td>\n",
       "      <td>No</td>\n",
       "      <td>NaN</td>\n",
       "      <td>@satisfiedabc,@satisfiedacc,@satisfiedabc,@sat...</td>\n",
       "      <td>⬇️Have fun with this game of cat🐱⬇️\\n👉swipe --...</td>\n",
       "      <td>NaN</td>\n",
       "      <td>Credit: @ dm me</td>\n",
       "    </tr>\n",
       "    <tr>\n",
       "      <th>4</th>\n",
       "      <td>satisfiedabc</td>\n",
       "      <td>2319967579208020259_16589495810</td>\n",
       "      <td>5/29/2020 10:48:28 PM</td>\n",
       "      <td>https://www.instagram.com/p/CAyLji5HfEj</td>\n",
       "      <td>41245</td>\n",
       "      <td>80</td>\n",
       "      <td>0</td>\n",
       "      <td>No</td>\n",
       "      <td>NaN</td>\n",
       "      <td>@satisfiedabc,@satisfiedacc,@satisfiedabc,@sat...</td>\n",
       "      <td>⬇️Have fun with this game of cat🐱⬇️\\n👉swipe --...</td>\n",
       "      <td>NaN</td>\n",
       "      <td>Credit: @ dm me</td>\n",
       "    </tr>\n",
       "  </tbody>\n",
       "</table>\n",
       "</div>"
      ],
      "text/plain": [
       "  OriginalUsername                          MediaId            CreatedDate  \\\n",
       "0     satisfiedabc  2322894820267000138_16589495810   6/2/2020 11:44:22 PM   \n",
       "1     satisfiedabc  2322138822547961556_16589495810   6/1/2020 10:42:20 PM   \n",
       "2     satisfiedabc  2321440061022639650_16589495810  5/31/2020 11:34:02 PM   \n",
       "3     satisfiedabc  2320727064843354106_16589495810  5/30/2020 11:57:26 PM   \n",
       "4     satisfiedabc  2319967579208020259_16589495810  5/29/2020 10:48:28 PM   \n",
       "\n",
       "                                   PostUrl  NrLikes  NrComments  ViewCount  \\\n",
       "0  https://www.instagram.com/p/CA8lIgknAFK     6819          14          0   \n",
       "1  https://www.instagram.com/p/CA55PS1HXbU    29030         175          0   \n",
       "2  https://www.instagram.com/p/CA3aW-cnZYi    13119          19          0   \n",
       "3  https://www.instagram.com/p/CA04PhAn3_6    10617          11          0   \n",
       "4  https://www.instagram.com/p/CAyLji5HfEj    41245          80          0   \n",
       "\n",
       "  IsVideo  TaggedUsers                                     MentionedUsers  \\\n",
       "0      No          NaN  @satisfiedabc,@satisfiedacc,@satisfiedabc,@sat...   \n",
       "1      No          NaN  @satisfiedabc,@satisfiedacc,@satisfiedabc,@sat...   \n",
       "2      No          NaN  @satisfiedabc,@satisfiedacc,@satisfiedabc,@sat...   \n",
       "3      No          NaN  @satisfiedabc,@satisfiedacc,@satisfiedabc,@sat...   \n",
       "4      No          NaN  @satisfiedabc,@satisfiedacc,@satisfiedabc,@sat...   \n",
       "\n",
       "                                             Caption  Location  \\\n",
       "0  ⬇️Have fun with this game of cat🐱⬇️\\n👉swipe --...       NaN   \n",
       "1  ⬇️Have fun with this game of cat🐱⬇️\\n👉swipe --...       NaN   \n",
       "2  ⬇️Have fun with this game of cat🐱⬇️\\n👉swipe --...       NaN   \n",
       "3  ⬇️Have fun with this game of cat🐱⬇️\\n👉swipe --...       NaN   \n",
       "4  ⬇️Have fun with this game of cat🐱⬇️\\n👉swipe --...       NaN   \n",
       "\n",
       "                Credits  \n",
       "0       Credit: @ dm me  \n",
       "1  Credit: @jasonderulo  \n",
       "2       Credit: @ dm me  \n",
       "3       Credit: @ dm me  \n",
       "4       Credit: @ dm me  "
      ]
     },
     "execution_count": 60,
     "metadata": {},
     "output_type": "execute_result"
    }
   ],
   "source": [
    "df.head()"
   ]
  },
  {
   "cell_type": "code",
   "execution_count": 11,
   "metadata": {},
   "outputs": [],
   "source": [
    "stroka = df.iloc[0,10]"
   ]
  },
  {
   "cell_type": "code",
   "execution_count": 29,
   "metadata": {},
   "outputs": [],
   "source": [
    "f = lambda stroka : stroka[stroka.find(\"Credit\"):stroka[stroka.find(\"Credit\"):].find('\\n') + stroka.find(\"Credit\")]"
   ]
  },
  {
   "cell_type": "code",
   "execution_count": 36,
   "metadata": {},
   "outputs": [],
   "source": [
    "df['Credits'] = df.iloc[:,10].apply(f)"
   ]
  },
  {
   "cell_type": "code",
   "execution_count": 38,
   "metadata": {},
   "outputs": [],
   "source": [
    "df_need = df[[\"PostUrl\", \"NrLikes\", \"IsVideo\", \"Credits\"]]"
   ]
  },
  {
   "cell_type": "code",
   "execution_count": 40,
   "metadata": {},
   "outputs": [
    {
     "name": "stderr",
     "output_type": "stream",
     "text": [
      "c:\\users\\pahra\\appdata\\local\\programs\\python\\python36\\lib\\site-packages\\ipykernel_launcher.py:1: SettingWithCopyWarning: \n",
      "A value is trying to be set on a copy of a slice from a DataFrame\n",
      "\n",
      "See the caveats in the documentation: http://pandas.pydata.org/pandas-docs/stable/indexing.html#indexing-view-versus-copy\n",
      "  \"\"\"Entry point for launching an IPython kernel.\n"
     ]
    }
   ],
   "source": [
    "df_need.sort_values(by= \"NrLikes\", ascending=False, inplace= True)"
   ]
  },
  {
   "cell_type": "code",
   "execution_count": 43,
   "metadata": {},
   "outputs": [
    {
     "name": "stdout",
     "output_type": "stream",
     "text": [
      "<class 'pandas.core.frame.DataFrame'>\n",
      "Int64Index: 245 entries, 30 to 242\n",
      "Data columns (total 4 columns):\n",
      "PostUrl    245 non-null object\n",
      "NrLikes    245 non-null int64\n",
      "IsVideo    245 non-null object\n",
      "Credits    245 non-null object\n",
      "dtypes: int64(1), object(3)\n",
      "memory usage: 9.6+ KB\n"
     ]
    }
   ],
   "source": [
    "df_need.info()"
   ]
  },
  {
   "cell_type": "code",
   "execution_count": 55,
   "metadata": {},
   "outputs": [],
   "source": [
    "df_need = df_need.loc[(df['Credits']!='') & (df['NrLikes']>10000)]"
   ]
  },
  {
   "cell_type": "code",
   "execution_count": 59,
   "metadata": {},
   "outputs": [],
   "source": [
    "import os\n",
    "df_need.to_csv(\"NecessaryInfo_\"+\"satisfiedabc\"+\".csv\" )"
   ]
  },
  {
   "cell_type": "code",
   "execution_count": null,
   "metadata": {},
   "outputs": [],
   "source": []
  },
  {
   "cell_type": "code",
   "execution_count": null,
   "metadata": {},
   "outputs": [],
   "source": []
  },
  {
   "cell_type": "code",
   "execution_count": 115,
   "metadata": {},
   "outputs": [],
   "source": [
    "df = pd.read_csv('All2.csv')"
   ]
  },
  {
   "cell_type": "code",
   "execution_count": 116,
   "metadata": {},
   "outputs": [
    {
     "data": {
      "text/plain": [
       "(3777, 12)"
      ]
     },
     "execution_count": 116,
     "metadata": {},
     "output_type": "execute_result"
    }
   ],
   "source": [
    "df.shape"
   ]
  },
  {
   "cell_type": "code",
   "execution_count": 117,
   "metadata": {},
   "outputs": [
    {
     "data": {
      "text/html": [
       "<div>\n",
       "<style scoped>\n",
       "    .dataframe tbody tr th:only-of-type {\n",
       "        vertical-align: middle;\n",
       "    }\n",
       "\n",
       "    .dataframe tbody tr th {\n",
       "        vertical-align: top;\n",
       "    }\n",
       "\n",
       "    .dataframe thead th {\n",
       "        text-align: right;\n",
       "    }\n",
       "</style>\n",
       "<table border=\"1\" class=\"dataframe\">\n",
       "  <thead>\n",
       "    <tr style=\"text-align: right;\">\n",
       "      <th></th>\n",
       "      <th>OriginalUsername</th>\n",
       "      <th>MediaId</th>\n",
       "      <th>CreatedDate</th>\n",
       "      <th>PostUrl</th>\n",
       "      <th>NrLikes</th>\n",
       "      <th>NrComments</th>\n",
       "      <th>ViewCount</th>\n",
       "      <th>IsVideo</th>\n",
       "      <th>TaggedUsers</th>\n",
       "      <th>MentionedUsers</th>\n",
       "      <th>Caption</th>\n",
       "      <th>Location</th>\n",
       "    </tr>\n",
       "  </thead>\n",
       "  <tbody>\n",
       "    <tr>\n",
       "      <th>3772</th>\n",
       "      <td>yesatisfying</td>\n",
       "      <td>2224915563331181746_27276051771</td>\n",
       "      <td>1/19/2020 7:17:22 PM</td>\n",
       "      <td>https://www.instagram.com/p/B7gfOqvl9yy</td>\n",
       "      <td>80</td>\n",
       "      <td>6</td>\n",
       "      <td>1163</td>\n",
       "      <td>Yes</td>\n",
       "      <td>NaN</td>\n",
       "      <td>@hydraulicpresschannel,@yesatisfying,@yesatisf...</td>\n",
       "      <td>😍 or 😠?\\nCredits: @hydraulicpresschannel\\nFOLL...</td>\n",
       "      <td>NaN</td>\n",
       "    </tr>\n",
       "    <tr>\n",
       "      <th>3773</th>\n",
       "      <td>yesatisfying</td>\n",
       "      <td>2224744160573821273_27276051771</td>\n",
       "      <td>1/19/2020 1:36:53 PM</td>\n",
       "      <td>https://www.instagram.com/p/B7f4QbfIJFZ</td>\n",
       "      <td>49</td>\n",
       "      <td>6</td>\n",
       "      <td>1021</td>\n",
       "      <td>Yes</td>\n",
       "      <td>NaN</td>\n",
       "      <td>@yesatisfying,@yesatisfying,@yesatisfying</td>\n",
       "      <td>😍 or 😠?\\nCredits: DM ME \\nFOLLOW ME: @yesatisf...</td>\n",
       "      <td>NaN</td>\n",
       "    </tr>\n",
       "    <tr>\n",
       "      <th>3774</th>\n",
       "      <td>yesatisfying</td>\n",
       "      <td>2224314499678430098_27276051771</td>\n",
       "      <td>1/18/2020 11:23:12 PM</td>\n",
       "      <td>https://www.instagram.com/p/B7eWkCmFWOS</td>\n",
       "      <td>160</td>\n",
       "      <td>9</td>\n",
       "      <td>1149</td>\n",
       "      <td>Yes</td>\n",
       "      <td>NaN</td>\n",
       "      <td>@dantedentoniart,@yesatisfying,@yesatisfying,@...</td>\n",
       "      <td>😍 or 😠?\\nCredits: @dantedentoniart\\nFOLLOW ME:...</td>\n",
       "      <td>NaN</td>\n",
       "    </tr>\n",
       "    <tr>\n",
       "      <th>3775</th>\n",
       "      <td>yesatisfying</td>\n",
       "      <td>2224156939340958585_27276051771</td>\n",
       "      <td>1/18/2020 6:10:07 PM</td>\n",
       "      <td>https://www.instagram.com/p/B7dyvPGI0t5</td>\n",
       "      <td>87</td>\n",
       "      <td>5</td>\n",
       "      <td>996</td>\n",
       "      <td>Yes</td>\n",
       "      <td>NaN</td>\n",
       "      <td>@hydraulicpresschannel,@yesatisfying,@yesatisf...</td>\n",
       "      <td>😍 or 😠?\\nCredits: @hydraulicpresschannel\\nFOLL...</td>\n",
       "      <td>NaN</td>\n",
       "    </tr>\n",
       "    <tr>\n",
       "      <th>3776</th>\n",
       "      <td>yesatisfying</td>\n",
       "      <td>2224062715685533166_27276051771</td>\n",
       "      <td>1/18/2020 3:03:10 PM</td>\n",
       "      <td>https://www.instagram.com/p/B7ddUGeoHXu</td>\n",
       "      <td>107</td>\n",
       "      <td>6</td>\n",
       "      <td>1346</td>\n",
       "      <td>Yes</td>\n",
       "      <td>NaN</td>\n",
       "      <td>@hydraulicpresschannel,@yesatisfying,@yesatisf...</td>\n",
       "      <td>😍 or 😠?\\nCredits: @hydraulicpresschannel\\nFOLL...</td>\n",
       "      <td>NaN</td>\n",
       "    </tr>\n",
       "  </tbody>\n",
       "</table>\n",
       "</div>"
      ],
      "text/plain": [
       "     OriginalUsername                          MediaId            CreatedDate  \\\n",
       "3772     yesatisfying  2224915563331181746_27276051771   1/19/2020 7:17:22 PM   \n",
       "3773     yesatisfying  2224744160573821273_27276051771   1/19/2020 1:36:53 PM   \n",
       "3774     yesatisfying  2224314499678430098_27276051771  1/18/2020 11:23:12 PM   \n",
       "3775     yesatisfying  2224156939340958585_27276051771   1/18/2020 6:10:07 PM   \n",
       "3776     yesatisfying  2224062715685533166_27276051771   1/18/2020 3:03:10 PM   \n",
       "\n",
       "                                      PostUrl  NrLikes  NrComments  ViewCount  \\\n",
       "3772  https://www.instagram.com/p/B7gfOqvl9yy       80           6       1163   \n",
       "3773  https://www.instagram.com/p/B7f4QbfIJFZ       49           6       1021   \n",
       "3774  https://www.instagram.com/p/B7eWkCmFWOS      160           9       1149   \n",
       "3775  https://www.instagram.com/p/B7dyvPGI0t5       87           5        996   \n",
       "3776  https://www.instagram.com/p/B7ddUGeoHXu      107           6       1346   \n",
       "\n",
       "     IsVideo TaggedUsers                                     MentionedUsers  \\\n",
       "3772     Yes         NaN  @hydraulicpresschannel,@yesatisfying,@yesatisf...   \n",
       "3773     Yes         NaN          @yesatisfying,@yesatisfying,@yesatisfying   \n",
       "3774     Yes         NaN  @dantedentoniart,@yesatisfying,@yesatisfying,@...   \n",
       "3775     Yes         NaN  @hydraulicpresschannel,@yesatisfying,@yesatisf...   \n",
       "3776     Yes         NaN  @hydraulicpresschannel,@yesatisfying,@yesatisf...   \n",
       "\n",
       "                                                Caption Location  \n",
       "3772  😍 or 😠?\\nCredits: @hydraulicpresschannel\\nFOLL...      NaN  \n",
       "3773  😍 or 😠?\\nCredits: DM ME \\nFOLLOW ME: @yesatisf...      NaN  \n",
       "3774  😍 or 😠?\\nCredits: @dantedentoniart\\nFOLLOW ME:...      NaN  \n",
       "3775  😍 or 😠?\\nCredits: @hydraulicpresschannel\\nFOLL...      NaN  \n",
       "3776  😍 or 😠?\\nCredits: @hydraulicpresschannel\\nFOLL...      NaN  "
      ]
     },
     "execution_count": 117,
     "metadata": {},
     "output_type": "execute_result"
    }
   ],
   "source": [
    "df.tail()"
   ]
  },
  {
   "cell_type": "code",
   "execution_count": 118,
   "metadata": {},
   "outputs": [],
   "source": [
    "f = lambda stroka : stroka.lower()[stroka.lower().find(\"credit\"):stroka.lower()[stroka.lower().find(\"credit\"):].find('\\n') + stroka.lower().find(\"credit\")]"
   ]
  },
  {
   "cell_type": "code",
   "execution_count": 119,
   "metadata": {},
   "outputs": [],
   "source": [
    "def credit_search(x):\n",
    "    x2 = str(x).lower() + '\\n'\n",
    "    start = x2.find(\"credit\")\n",
    "    if start == -1:\n",
    "        return np.nan\n",
    "    x3 = x2[start:]\n",
    "    stop = x3.find(\"\\n\")\n",
    "    credits = x3[:stop]\n",
    "    return credits"
   ]
  },
  {
   "cell_type": "code",
   "execution_count": 120,
   "metadata": {},
   "outputs": [],
   "source": [
    "df['Credits'] = df.iloc[:,10].apply(credit_search)"
   ]
  },
  {
   "cell_type": "code",
   "execution_count": 121,
   "metadata": {},
   "outputs": [
    {
     "data": {
      "text/html": [
       "<div>\n",
       "<style scoped>\n",
       "    .dataframe tbody tr th:only-of-type {\n",
       "        vertical-align: middle;\n",
       "    }\n",
       "\n",
       "    .dataframe tbody tr th {\n",
       "        vertical-align: top;\n",
       "    }\n",
       "\n",
       "    .dataframe thead th {\n",
       "        text-align: right;\n",
       "    }\n",
       "</style>\n",
       "<table border=\"1\" class=\"dataframe\">\n",
       "  <thead>\n",
       "    <tr style=\"text-align: right;\">\n",
       "      <th></th>\n",
       "      <th>OriginalUsername</th>\n",
       "      <th>MediaId</th>\n",
       "      <th>CreatedDate</th>\n",
       "      <th>PostUrl</th>\n",
       "      <th>NrLikes</th>\n",
       "      <th>NrComments</th>\n",
       "      <th>ViewCount</th>\n",
       "      <th>IsVideo</th>\n",
       "      <th>TaggedUsers</th>\n",
       "      <th>MentionedUsers</th>\n",
       "      <th>Caption</th>\n",
       "      <th>Location</th>\n",
       "      <th>Credits</th>\n",
       "    </tr>\n",
       "  </thead>\n",
       "  <tbody>\n",
       "    <tr>\n",
       "      <th>0</th>\n",
       "      <td>satisfytour</td>\n",
       "      <td>2321364848159481510_11160870222</td>\n",
       "      <td>5/31/2020 9:04:36 PM</td>\n",
       "      <td>https://www.instagram.com/p/CA3JQfAn96m</td>\n",
       "      <td>10512</td>\n",
       "      <td>124</td>\n",
       "      <td>0</td>\n",
       "      <td>No</td>\n",
       "      <td>NaN</td>\n",
       "      <td>@satisfytour</td>\n",
       "      <td>1 or 2?\\n❅\\nFollow me @satisfytour for more\\n❅...</td>\n",
       "      <td>NaN</td>\n",
       "      <td>credit: aesthetic.vids/tiktok</td>\n",
       "    </tr>\n",
       "    <tr>\n",
       "      <th>1</th>\n",
       "      <td>satisfytour</td>\n",
       "      <td>2320592663454962976_11160870222</td>\n",
       "      <td>5/30/2020 7:30:24 PM</td>\n",
       "      <td>https://www.instagram.com/p/CA0Zrt9nFUg</td>\n",
       "      <td>36170</td>\n",
       "      <td>185</td>\n",
       "      <td>0</td>\n",
       "      <td>No</td>\n",
       "      <td>NaN</td>\n",
       "      <td>@satisfytour</td>\n",
       "      <td>1 or 2?\\n❅\\nFollow me @satisfytour for more\\n❅...</td>\n",
       "      <td>NaN</td>\n",
       "      <td>credit: kimmietow/tiktok</td>\n",
       "    </tr>\n",
       "    <tr>\n",
       "      <th>2</th>\n",
       "      <td>satisfytour</td>\n",
       "      <td>2317770701632452628_11160870222</td>\n",
       "      <td>5/26/2020 10:03:40 PM</td>\n",
       "      <td>https://www.instagram.com/p/CAqYCxNnDgU</td>\n",
       "      <td>31621</td>\n",
       "      <td>160</td>\n",
       "      <td>0</td>\n",
       "      <td>No</td>\n",
       "      <td>NaN</td>\n",
       "      <td>@satisfytour</td>\n",
       "      <td>1 or 2?\\n❅\\nFollow me @satisfytour for more\\n❅...</td>\n",
       "      <td>NaN</td>\n",
       "      <td>credit: izz03/tiktok</td>\n",
       "    </tr>\n",
       "    <tr>\n",
       "      <th>3</th>\n",
       "      <td>satisfytour</td>\n",
       "      <td>2315589332345033308_11160870222</td>\n",
       "      <td>5/23/2020 9:49:40 PM</td>\n",
       "      <td>https://www.instagram.com/p/CAioDqwHBJc</td>\n",
       "      <td>38580</td>\n",
       "      <td>120</td>\n",
       "      <td>0</td>\n",
       "      <td>No</td>\n",
       "      <td>NaN</td>\n",
       "      <td>@satisfytour</td>\n",
       "      <td>1 or 2?\\n❅\\nFollow me @satisfytour for more\\n❅...</td>\n",
       "      <td>NaN</td>\n",
       "      <td>credit: houseandhens/tiktok</td>\n",
       "    </tr>\n",
       "    <tr>\n",
       "      <th>4</th>\n",
       "      <td>satisfytour</td>\n",
       "      <td>2314746412541109335_11160870222</td>\n",
       "      <td>5/22/2020 5:54:57 PM</td>\n",
       "      <td>https://www.instagram.com/p/CAfoZkgn2RX</td>\n",
       "      <td>72725</td>\n",
       "      <td>233</td>\n",
       "      <td>0</td>\n",
       "      <td>No</td>\n",
       "      <td>NaN</td>\n",
       "      <td>@satisfytour,@ang.isco</td>\n",
       "      <td>1 or 2?\\n❅\\nFollow me @satisfytour for more\\n❅...</td>\n",
       "      <td>NaN</td>\n",
       "      <td>credit: @ang.isco</td>\n",
       "    </tr>\n",
       "  </tbody>\n",
       "</table>\n",
       "</div>"
      ],
      "text/plain": [
       "  OriginalUsername                          MediaId            CreatedDate  \\\n",
       "0      satisfytour  2321364848159481510_11160870222   5/31/2020 9:04:36 PM   \n",
       "1      satisfytour  2320592663454962976_11160870222   5/30/2020 7:30:24 PM   \n",
       "2      satisfytour  2317770701632452628_11160870222  5/26/2020 10:03:40 PM   \n",
       "3      satisfytour  2315589332345033308_11160870222   5/23/2020 9:49:40 PM   \n",
       "4      satisfytour  2314746412541109335_11160870222   5/22/2020 5:54:57 PM   \n",
       "\n",
       "                                   PostUrl  NrLikes  NrComments  ViewCount  \\\n",
       "0  https://www.instagram.com/p/CA3JQfAn96m    10512         124          0   \n",
       "1  https://www.instagram.com/p/CA0Zrt9nFUg    36170         185          0   \n",
       "2  https://www.instagram.com/p/CAqYCxNnDgU    31621         160          0   \n",
       "3  https://www.instagram.com/p/CAioDqwHBJc    38580         120          0   \n",
       "4  https://www.instagram.com/p/CAfoZkgn2RX    72725         233          0   \n",
       "\n",
       "  IsVideo TaggedUsers          MentionedUsers  \\\n",
       "0      No         NaN            @satisfytour   \n",
       "1      No         NaN            @satisfytour   \n",
       "2      No         NaN            @satisfytour   \n",
       "3      No         NaN            @satisfytour   \n",
       "4      No         NaN  @satisfytour,@ang.isco   \n",
       "\n",
       "                                             Caption Location  \\\n",
       "0  1 or 2?\\n❅\\nFollow me @satisfytour for more\\n❅...      NaN   \n",
       "1  1 or 2?\\n❅\\nFollow me @satisfytour for more\\n❅...      NaN   \n",
       "2  1 or 2?\\n❅\\nFollow me @satisfytour for more\\n❅...      NaN   \n",
       "3  1 or 2?\\n❅\\nFollow me @satisfytour for more\\n❅...      NaN   \n",
       "4  1 or 2?\\n❅\\nFollow me @satisfytour for more\\n❅...      NaN   \n",
       "\n",
       "                         Credits  \n",
       "0  credit: aesthetic.vids/tiktok  \n",
       "1       credit: kimmietow/tiktok  \n",
       "2           credit: izz03/tiktok  \n",
       "3    credit: houseandhens/tiktok  \n",
       "4              credit: @ang.isco  "
      ]
     },
     "execution_count": 121,
     "metadata": {},
     "output_type": "execute_result"
    }
   ],
   "source": [
    "df.head()"
   ]
  },
  {
   "cell_type": "code",
   "execution_count": 122,
   "metadata": {},
   "outputs": [
    {
     "name": "stdout",
     "output_type": "stream",
     "text": [
      "<class 'pandas.core.frame.DataFrame'>\n",
      "RangeIndex: 3777 entries, 0 to 3776\n",
      "Data columns (total 13 columns):\n",
      "OriginalUsername    3777 non-null object\n",
      "MediaId             3777 non-null object\n",
      "CreatedDate         3777 non-null object\n",
      "PostUrl             3777 non-null object\n",
      "NrLikes             3777 non-null int64\n",
      "NrComments          3777 non-null int64\n",
      "ViewCount           3777 non-null int64\n",
      "IsVideo             3777 non-null object\n",
      "TaggedUsers         675 non-null object\n",
      "MentionedUsers      3436 non-null object\n",
      "Caption             3755 non-null object\n",
      "Location            2 non-null object\n",
      "Credits             2346 non-null object\n",
      "dtypes: int64(3), object(10)\n",
      "memory usage: 383.7+ KB\n"
     ]
    }
   ],
   "source": [
    "df.info()"
   ]
  },
  {
   "cell_type": "code",
   "execution_count": 123,
   "metadata": {},
   "outputs": [],
   "source": [
    "df_need = df[[\"PostUrl\", \"NrLikes\", \"IsVideo\", \"Credits\"]]"
   ]
  },
  {
   "cell_type": "code",
   "execution_count": 124,
   "metadata": {},
   "outputs": [
    {
     "name": "stderr",
     "output_type": "stream",
     "text": [
      "c:\\users\\pahra\\appdata\\local\\programs\\python\\python36\\lib\\site-packages\\ipykernel_launcher.py:1: SettingWithCopyWarning: \n",
      "A value is trying to be set on a copy of a slice from a DataFrame\n",
      "\n",
      "See the caveats in the documentation: http://pandas.pydata.org/pandas-docs/stable/indexing.html#indexing-view-versus-copy\n",
      "  \"\"\"Entry point for launching an IPython kernel.\n"
     ]
    }
   ],
   "source": [
    "df_need.sort_values(by= \"NrLikes\", ascending=False, inplace= True)"
   ]
  },
  {
   "cell_type": "code",
   "execution_count": 137,
   "metadata": {},
   "outputs": [
    {
     "name": "stdout",
     "output_type": "stream",
     "text": [
      "<class 'pandas.core.frame.DataFrame'>\n",
      "Int64Index: 3777 entries, 211 to 1742\n",
      "Data columns (total 4 columns):\n",
      "PostUrl    3777 non-null object\n",
      "NrLikes    3777 non-null int64\n",
      "IsVideo    3777 non-null object\n",
      "Credits    2346 non-null object\n",
      "dtypes: int64(1), object(3)\n",
      "memory usage: 147.5+ KB\n"
     ]
    }
   ],
   "source": [
    "df_need.info()"
   ]
  },
  {
   "cell_type": "code",
   "execution_count": 138,
   "metadata": {},
   "outputs": [],
   "source": [
    "df_need2 = df_need.dropna()"
   ]
  },
  {
   "cell_type": "code",
   "execution_count": 139,
   "metadata": {},
   "outputs": [
    {
     "data": {
      "text/plain": [
       "(2346, 4)"
      ]
     },
     "execution_count": 139,
     "metadata": {},
     "output_type": "execute_result"
    }
   ],
   "source": [
    "df_need2.shape"
   ]
  },
  {
   "cell_type": "code",
   "execution_count": 140,
   "metadata": {},
   "outputs": [
    {
     "data": {
      "text/plain": [
       "(2346, 4)"
      ]
     },
     "execution_count": 140,
     "metadata": {},
     "output_type": "execute_result"
    }
   ],
   "source": [
    "df_need2.shape"
   ]
  },
  {
   "cell_type": "code",
   "execution_count": 141,
   "metadata": {},
   "outputs": [
    {
     "name": "stdout",
     "output_type": "stream",
     "text": [
      "<class 'pandas.core.frame.DataFrame'>\n",
      "Int64Index: 2346 entries, 164 to 1742\n",
      "Data columns (total 4 columns):\n",
      "PostUrl    2346 non-null object\n",
      "NrLikes    2346 non-null int64\n",
      "IsVideo    2346 non-null object\n",
      "Credits    2346 non-null object\n",
      "dtypes: int64(1), object(3)\n",
      "memory usage: 91.6+ KB\n"
     ]
    }
   ],
   "source": [
    "df_need2.info()"
   ]
  },
  {
   "cell_type": "code",
   "execution_count": 144,
   "metadata": {},
   "outputs": [
    {
     "data": {
      "text/html": [
       "<div>\n",
       "<style scoped>\n",
       "    .dataframe tbody tr th:only-of-type {\n",
       "        vertical-align: middle;\n",
       "    }\n",
       "\n",
       "    .dataframe tbody tr th {\n",
       "        vertical-align: top;\n",
       "    }\n",
       "\n",
       "    .dataframe thead th {\n",
       "        text-align: right;\n",
       "    }\n",
       "</style>\n",
       "<table border=\"1\" class=\"dataframe\">\n",
       "  <thead>\n",
       "    <tr style=\"text-align: right;\">\n",
       "      <th></th>\n",
       "      <th>PostUrl</th>\n",
       "      <th>NrLikes</th>\n",
       "      <th>IsVideo</th>\n",
       "      <th>Credits</th>\n",
       "    </tr>\n",
       "  </thead>\n",
       "  <tbody>\n",
       "    <tr>\n",
       "      <th>164</th>\n",
       "      <td>https://www.instagram.com/p/B3NgNmvHTMl</td>\n",
       "      <td>559152</td>\n",
       "      <td>No</td>\n",
       "      <td>credit: @quik_play</td>\n",
       "    </tr>\n",
       "    <tr>\n",
       "      <th>60</th>\n",
       "      <td>https://www.instagram.com/p/B97F6dMHfrz</td>\n",
       "      <td>450118</td>\n",
       "      <td>No</td>\n",
       "      <td>credit: searescueirland/tiktok</td>\n",
       "    </tr>\n",
       "    <tr>\n",
       "      <th>1928</th>\n",
       "      <td>https://www.instagram.com/p/B2cFMNZInJA</td>\n",
       "      <td>443940</td>\n",
       "      <td>Yes</td>\n",
       "      <td>credit: @musiacal</td>\n",
       "    </tr>\n",
       "    <tr>\n",
       "      <th>167</th>\n",
       "      <td>https://www.instagram.com/p/B2ZaZI6HfMn</td>\n",
       "      <td>426292</td>\n",
       "      <td>No</td>\n",
       "      <td>credit shown on individual posts ]</td>\n",
       "    </tr>\n",
       "    <tr>\n",
       "      <th>1769</th>\n",
       "      <td>https://www.instagram.com/p/CANvz67nHxm</td>\n",
       "      <td>351034</td>\n",
       "      <td>No</td>\n",
       "      <td>credit: @jackiegansky &amp; unknown</td>\n",
       "    </tr>\n",
       "    <tr>\n",
       "      <th>68</th>\n",
       "      <td>https://www.instagram.com/p/B9zBaluHMpH</td>\n",
       "      <td>346755</td>\n",
       "      <td>No</td>\n",
       "      <td>credit: madmax_fluffyroad/tiktok</td>\n",
       "    </tr>\n",
       "    <tr>\n",
       "      <th>1766</th>\n",
       "      <td>https://www.instagram.com/p/CAX_kdYnOxM</td>\n",
       "      <td>337307</td>\n",
       "      <td>No</td>\n",
       "      <td>credit: johnboderting/tiktok</td>\n",
       "    </tr>\n",
       "    <tr>\n",
       "      <th>50</th>\n",
       "      <td>https://www.instagram.com/p/B-MzsvNnKnU</td>\n",
       "      <td>284395</td>\n",
       "      <td>Yes</td>\n",
       "      <td>credit: starbucksrecipes/tiktok</td>\n",
       "    </tr>\n",
       "    <tr>\n",
       "      <th>53</th>\n",
       "      <td>https://www.instagram.com/p/B-Hp2h1H4HX</td>\n",
       "      <td>280338</td>\n",
       "      <td>No</td>\n",
       "      <td>credit: urban.room.makeover/tiktok</td>\n",
       "    </tr>\n",
       "    <tr>\n",
       "      <th>165</th>\n",
       "      <td>https://www.instagram.com/p/B3FuOyWnP2X</td>\n",
       "      <td>274569</td>\n",
       "      <td>Yes</td>\n",
       "      <td>credit: jack_alexus/tiktok</td>\n",
       "    </tr>\n",
       "    <tr>\n",
       "      <th>54</th>\n",
       "      <td>https://www.instagram.com/p/B-FOlQ_n6L5</td>\n",
       "      <td>264841</td>\n",
       "      <td>No</td>\n",
       "      <td>credit: jasmine.michh/tiktok, mochacloud/tikto...</td>\n",
       "    </tr>\n",
       "    <tr>\n",
       "      <th>1767</th>\n",
       "      <td>https://www.instagram.com/p/CAVentVH3dX</td>\n",
       "      <td>263547</td>\n",
       "      <td>No</td>\n",
       "      <td>credit: paraprincess95/tiktok</td>\n",
       "    </tr>\n",
       "    <tr>\n",
       "      <th>3615</th>\n",
       "      <td>https://www.instagram.com/p/B-eeCP0i1ow</td>\n",
       "      <td>242864</td>\n",
       "      <td>No</td>\n",
       "      <td>credits: @wickedwinks</td>\n",
       "    </tr>\n",
       "    <tr>\n",
       "      <th>92</th>\n",
       "      <td>https://www.instagram.com/p/B9KEgIYHSme</td>\n",
       "      <td>229183</td>\n",
       "      <td>No</td>\n",
       "      <td>credit: animalswild/tiktok</td>\n",
       "    </tr>\n",
       "    <tr>\n",
       "      <th>1777</th>\n",
       "      <td>https://www.instagram.com/p/B_xayJXHBUV</td>\n",
       "      <td>225956</td>\n",
       "      <td>No</td>\n",
       "      <td>credit: vindrawilter/tiktok &amp; unknown</td>\n",
       "    </tr>\n",
       "    <tr>\n",
       "      <th>161</th>\n",
       "      <td>https://www.instagram.com/p/B5V4_hcnWPR</td>\n",
       "      <td>217061</td>\n",
       "      <td>Yes</td>\n",
       "      <td>credit: worldsurfleague/tiktok</td>\n",
       "    </tr>\n",
       "    <tr>\n",
       "      <th>1807</th>\n",
       "      <td>https://www.instagram.com/p/B-H9SsXHfAp</td>\n",
       "      <td>215247</td>\n",
       "      <td>No</td>\n",
       "      <td>credit: skyviews35 &amp; waterandlight on tiktok</td>\n",
       "    </tr>\n",
       "    <tr>\n",
       "      <th>1758</th>\n",
       "      <td>https://www.instagram.com/p/CAsqKYrH8b0</td>\n",
       "      <td>209233</td>\n",
       "      <td>No</td>\n",
       "      <td>credit: johnboderting/tiktok</td>\n",
       "    </tr>\n",
       "    <tr>\n",
       "      <th>1811</th>\n",
       "      <td>https://www.instagram.com/p/B92B5obHKE0</td>\n",
       "      <td>192167</td>\n",
       "      <td>No</td>\n",
       "      <td>credit: @leomahalo &amp; @ianjpaintedit</td>\n",
       "    </tr>\n",
       "    <tr>\n",
       "      <th>1827</th>\n",
       "      <td>https://www.instagram.com/p/B81gEKhnD-D</td>\n",
       "      <td>189433</td>\n",
       "      <td>No</td>\n",
       "      <td>credit: @musiacal</td>\n",
       "    </tr>\n",
       "    <tr>\n",
       "      <th>1862</th>\n",
       "      <td>https://www.instagram.com/p/B6lQ4ZQnGPP</td>\n",
       "      <td>189103</td>\n",
       "      <td>Yes</td>\n",
       "      <td>credit: _mb______ on tiktok</td>\n",
       "    </tr>\n",
       "    <tr>\n",
       "      <th>1818</th>\n",
       "      <td>https://www.instagram.com/p/B9hZfDjHQHc</td>\n",
       "      <td>188145</td>\n",
       "      <td>No</td>\n",
       "      <td>credit: @chaoscanine &amp; @saraalexmullen</td>\n",
       "    </tr>\n",
       "    <tr>\n",
       "      <th>5</th>\n",
       "      <td>https://www.instagram.com/p/CAdOikdnHr3</td>\n",
       "      <td>183606</td>\n",
       "      <td>No</td>\n",
       "      <td>credit: david.beck/tiktok @sweet_2pi</td>\n",
       "    </tr>\n",
       "    <tr>\n",
       "      <th>270</th>\n",
       "      <td>https://www.instagram.com/p/CAItRl-H6vk</td>\n",
       "      <td>170168</td>\n",
       "      <td>No</td>\n",
       "      <td>credit: @fin_draper</td>\n",
       "    </tr>\n",
       "    <tr>\n",
       "      <th>335</th>\n",
       "      <td>https://www.instagram.com/p/B7buGWknoW2</td>\n",
       "      <td>167308</td>\n",
       "      <td>No</td>\n",
       "      <td>credit: @macroroom</td>\n",
       "    </tr>\n",
       "    <tr>\n",
       "      <th>38</th>\n",
       "      <td>https://www.instagram.com/p/B-hbmxdnMeA</td>\n",
       "      <td>164875</td>\n",
       "      <td>Yes</td>\n",
       "      <td>credit: starbucksrecipes/tiktok</td>\n",
       "    </tr>\n",
       "    <tr>\n",
       "      <th>1802</th>\n",
       "      <td>https://www.instagram.com/p/B-UtnsunrRt</td>\n",
       "      <td>164720</td>\n",
       "      <td>No</td>\n",
       "      <td>credit: kimmietow/tiktok &amp; unknown</td>\n",
       "    </tr>\n",
       "    <tr>\n",
       "      <th>1772</th>\n",
       "      <td>https://www.instagram.com/p/CAGAzyqn20W</td>\n",
       "      <td>162931</td>\n",
       "      <td>No</td>\n",
       "      <td>credit: pubity/tiktok &amp; menlovetools/tiktok</td>\n",
       "    </tr>\n",
       "    <tr>\n",
       "      <th>108</th>\n",
       "      <td>https://www.instagram.com/p/B8pGhXcnlie</td>\n",
       "      <td>162490</td>\n",
       "      <td>No</td>\n",
       "      <td>credit: jordi.koalitic/tiktok</td>\n",
       "    </tr>\n",
       "    <tr>\n",
       "      <th>271</th>\n",
       "      <td>https://www.instagram.com/p/CAGSRThHIYd</td>\n",
       "      <td>159498</td>\n",
       "      <td>No</td>\n",
       "      <td>credit: @ tiktok</td>\n",
       "    </tr>\n",
       "  </tbody>\n",
       "</table>\n",
       "</div>"
      ],
      "text/plain": [
       "                                      PostUrl  NrLikes IsVideo  \\\n",
       "164   https://www.instagram.com/p/B3NgNmvHTMl   559152      No   \n",
       "60    https://www.instagram.com/p/B97F6dMHfrz   450118      No   \n",
       "1928  https://www.instagram.com/p/B2cFMNZInJA   443940     Yes   \n",
       "167   https://www.instagram.com/p/B2ZaZI6HfMn   426292      No   \n",
       "1769  https://www.instagram.com/p/CANvz67nHxm   351034      No   \n",
       "68    https://www.instagram.com/p/B9zBaluHMpH   346755      No   \n",
       "1766  https://www.instagram.com/p/CAX_kdYnOxM   337307      No   \n",
       "50    https://www.instagram.com/p/B-MzsvNnKnU   284395     Yes   \n",
       "53    https://www.instagram.com/p/B-Hp2h1H4HX   280338      No   \n",
       "165   https://www.instagram.com/p/B3FuOyWnP2X   274569     Yes   \n",
       "54    https://www.instagram.com/p/B-FOlQ_n6L5   264841      No   \n",
       "1767  https://www.instagram.com/p/CAVentVH3dX   263547      No   \n",
       "3615  https://www.instagram.com/p/B-eeCP0i1ow   242864      No   \n",
       "92    https://www.instagram.com/p/B9KEgIYHSme   229183      No   \n",
       "1777  https://www.instagram.com/p/B_xayJXHBUV   225956      No   \n",
       "161   https://www.instagram.com/p/B5V4_hcnWPR   217061     Yes   \n",
       "1807  https://www.instagram.com/p/B-H9SsXHfAp   215247      No   \n",
       "1758  https://www.instagram.com/p/CAsqKYrH8b0   209233      No   \n",
       "1811  https://www.instagram.com/p/B92B5obHKE0   192167      No   \n",
       "1827  https://www.instagram.com/p/B81gEKhnD-D   189433      No   \n",
       "1862  https://www.instagram.com/p/B6lQ4ZQnGPP   189103     Yes   \n",
       "1818  https://www.instagram.com/p/B9hZfDjHQHc   188145      No   \n",
       "5     https://www.instagram.com/p/CAdOikdnHr3   183606      No   \n",
       "270   https://www.instagram.com/p/CAItRl-H6vk   170168      No   \n",
       "335   https://www.instagram.com/p/B7buGWknoW2   167308      No   \n",
       "38    https://www.instagram.com/p/B-hbmxdnMeA   164875     Yes   \n",
       "1802  https://www.instagram.com/p/B-UtnsunrRt   164720      No   \n",
       "1772  https://www.instagram.com/p/CAGAzyqn20W   162931      No   \n",
       "108   https://www.instagram.com/p/B8pGhXcnlie   162490      No   \n",
       "271   https://www.instagram.com/p/CAGSRThHIYd   159498      No   \n",
       "\n",
       "                                                Credits  \n",
       "164                                  credit: @quik_play  \n",
       "60                       credit: searescueirland/tiktok  \n",
       "1928                                 credit: @musiacal   \n",
       "167                  credit shown on individual posts ]  \n",
       "1769                    credit: @jackiegansky & unknown  \n",
       "68                     credit: madmax_fluffyroad/tiktok  \n",
       "1766                       credit: johnboderting/tiktok  \n",
       "50                      credit: starbucksrecipes/tiktok  \n",
       "53                   credit: urban.room.makeover/tiktok  \n",
       "165                          credit: jack_alexus/tiktok  \n",
       "54    credit: jasmine.michh/tiktok, mochacloud/tikto...  \n",
       "1767                      credit: paraprincess95/tiktok  \n",
       "3615                              credits: @wickedwinks  \n",
       "92                           credit: animalswild/tiktok  \n",
       "1777              credit: vindrawilter/tiktok & unknown  \n",
       "161                      credit: worldsurfleague/tiktok  \n",
       "1807       credit: skyviews35 & waterandlight on tiktok  \n",
       "1758                       credit: johnboderting/tiktok  \n",
       "1811               credit: @leomahalo & @ianjpaintedit   \n",
       "1827                                 credit: @musiacal   \n",
       "1862                        credit: _mb______ on tiktok  \n",
       "1818            credit: @chaoscanine & @saraalexmullen   \n",
       "5                  credit: david.beck/tiktok @sweet_2pi  \n",
       "270                                 credit: @fin_draper  \n",
       "335                                  credit: @macroroom  \n",
       "38                      credit: starbucksrecipes/tiktok  \n",
       "1802                 credit: kimmietow/tiktok & unknown  \n",
       "1772        credit: pubity/tiktok & menlovetools/tiktok  \n",
       "108                       credit: jordi.koalitic/tiktok  \n",
       "271                                    credit: @ tiktok  "
      ]
     },
     "execution_count": 144,
     "metadata": {},
     "output_type": "execute_result"
    }
   ],
   "source": [
    "df_need2.head(30)"
   ]
  },
  {
   "cell_type": "code",
   "execution_count": 143,
   "metadata": {},
   "outputs": [
    {
     "data": {
      "text/plain": [
       "satisfying.sus        746\n",
       "satisfyingxtimes      539\n",
       "satisfy_.videos       396\n",
       "satisfyingvids.pt2    377\n",
       "ilove_videoo          370\n",
       "yesatisfying          308\n",
       "satisfying.superb     292\n",
       "satisfytour           249\n",
       "highsatisfied         244\n",
       "chillclip.s           162\n",
       "satisflyingabc         94\n",
       "Name: OriginalUsername, dtype: int64"
      ]
     },
     "execution_count": 143,
     "metadata": {},
     "output_type": "execute_result"
    }
   ],
   "source": [
    "df['OriginalUsername'].value_counts()"
   ]
  },
  {
   "cell_type": "code",
   "execution_count": 145,
   "metadata": {},
   "outputs": [],
   "source": [
    "df_need2.to_csv(\"NecessaryInfo_part1.csv\")"
   ]
  },
  {
   "cell_type": "code",
   "execution_count": 146,
   "metadata": {},
   "outputs": [],
   "source": [
    "x = 3 \n"
   ]
  },
  {
   "cell_type": "code",
   "execution_count": 147,
   "metadata": {},
   "outputs": [
    {
     "data": {
      "text/plain": [
       "3"
      ]
     },
     "execution_count": 147,
     "metadata": {},
     "output_type": "execute_result"
    }
   ],
   "source": [
    "x"
   ]
  },
  {
   "cell_type": "code",
   "execution_count": null,
   "metadata": {},
   "outputs": [],
   "source": []
  }
 ],
 "metadata": {
  "kernelspec": {
   "display_name": "Python 3",
   "language": "python",
   "name": "python3"
  },
  "language_info": {
   "codemirror_mode": {
    "name": "ipython",
    "version": 3
   },
   "file_extension": ".py",
   "mimetype": "text/x-python",
   "name": "python",
   "nbconvert_exporter": "python",
   "pygments_lexer": "ipython3",
   "version": "3.6.5"
  }
 },
 "nbformat": 4,
 "nbformat_minor": 2
}
